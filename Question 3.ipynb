{
  "nbformat": 4,
  "nbformat_minor": 0,
  "metadata": {
    "colab": {
      "provenance": []
    },
    "kernelspec": {
      "name": "python3",
      "display_name": "Python 3"
    },
    "language_info": {
      "name": "python"
    }
  },
  "cells": [
    {
      "cell_type": "markdown",
      "source": [
        "Question"
      ],
      "metadata": {
        "id": "Jj_TSbsNNwaH"
      }
    },
    {
      "cell_type": "code",
      "source": [
        "def tough(indent, n):\n",
        "    # when n is 0, no pattern is printed\n",
        "    if n == 0:\n",
        "        return\n",
        "\n",
        "    # print increasing pattern first\n",
        "    tough(indent, n - 1)\n",
        "\n",
        "    # Print current line with indentation\n",
        "    print(' ' * indent + '*' * n)\n",
        "\n",
        "    # Print the decreasing pattern\n",
        "    tough(indent, n - 1)\n",
        "\n",
        "print(\"f(0, 0):\")\n",
        "tough(0, 0)\n",
        "\n",
        "print(\"\\nf(0, 1):\")\n",
        "tough(0, 1)\n",
        "\n",
        "print(\"\\nf(0, 2):\")\n",
        "tough(0, 2)\n",
        "\n",
        "print(\"\\nf(0, 4):\")\n",
        "tough(0, 4)\n"
      ],
      "metadata": {
        "colab": {
          "base_uri": "https://localhost:8080/"
        },
        "id": "HnJMF0fNTud9",
        "outputId": "101ecd35-9105-4713-9c04-9c4f32484736"
      },
      "execution_count": 33,
      "outputs": [
        {
          "output_type": "stream",
          "name": "stdout",
          "text": [
            "f(0, 0):\n",
            "\n",
            "f(0, 1):\n",
            "*\n",
            "\n",
            "f(0, 2):\n",
            "*\n",
            "**\n",
            "*\n",
            "\n",
            "f(0, 4):\n",
            "*\n",
            "**\n",
            "*\n",
            "***\n",
            "*\n",
            "**\n",
            "*\n",
            "****\n",
            "*\n",
            "**\n",
            "*\n",
            "***\n",
            "*\n",
            "**\n",
            "*\n"
          ]
        }
      ]
    },
    {
      "cell_type": "code",
      "source": [],
      "metadata": {
        "id": "GRNyuh3PWs7v"
      },
      "execution_count": null,
      "outputs": []
    }
  ]
}